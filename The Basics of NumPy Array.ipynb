{
 "cells": [
  {
   "cell_type": "markdown",
   "id": "e772d53f",
   "metadata": {},
   "source": [
    "This notebook contains an excerpt from the Python Data Science Handbook by Jake VanderPlas; the content is available on GitHub.\n",
    "\n",
    "The text is released under the CC-BY-NC-ND license, and code is released under the MIT license. If you find this content useful, please consider supporting the work by buying the book!\n",
    "\n",
    "No changes were made to the contents of this notebook from the original."
   ]
  },
  {
   "cell_type": "markdown",
   "id": "fb6ebe67",
   "metadata": {},
   "source": [
    "# The Basics of NumPy Arrays"
   ]
  },
  {
   "cell_type": "markdown",
   "id": "5352d7eb",
   "metadata": {},
   "source": [
    "Data manipulation in Python is nearly synonymous with NumPy array manipulation: even newer tools like Pandas (Chapter 3) are built around the NumPy array. This section will present several examples of using NumPy array manipulation to access data and subarrays, and to split, reshape, and join the arrays. While the types of operations shown here may seem a bit dry and pedantic, they comprise the building blocks of many other examples used throughout the book. Get to know them well!\n",
    "\n",
    "We'll cover a few categories of basic array manipulations here:\n",
    "\n",
    "- Attributes of arrays: Determining the size, shape, memory consumption, and data types of arrays\n",
    "- Indexing of arrays: Getting and setting the value of individual array elements\n",
    "- Slicing of arrays: Getting and setting smaller subarrays within a larger array\n",
    "- Reshaping of arrays: Changing the shape of a given array\n",
    "- Joining and splitting of arrays: Combining multiple arrays into one, and splitting one array into many"
   ]
  },
  {
   "cell_type": "markdown",
   "id": "dc50d739",
   "metadata": {},
   "source": [
    "# numpy array attributes"
   ]
  },
  {
   "cell_type": "markdown",
   "id": "0d6c7169",
   "metadata": {},
   "source": [
    "We'll start by defining three random arrays, a one-dimensional, two-dimensional, and three-dimensional array. We'll use NumPy's random number generator, which we will seed with a set value in order to ensure that the same random arrays are generated each time this code is run:"
   ]
  },
  {
   "cell_type": "code",
   "execution_count": 3,
   "id": "e6d4a5f1",
   "metadata": {},
   "outputs": [],
   "source": [
    "np.random.seed(0) #seed for reproduciblity\n",
    "X1=np.random.randint(10,size=6)#1 dimension array\n",
    "X2=np.random.randint(10,size=(3,5))#2 dimensional array\n",
    "X3=np.random.randint(10,size=(3,5,5))#3 dimensional array"
   ]
  },
  {
   "cell_type": "markdown",
   "id": "f4fc1228",
   "metadata": {},
   "source": [
    "Each array has attributes ndim (the number of dimensions), shape (the size of each dimension), and size (the total size of the array):"
   ]
  },
  {
   "cell_type": "code",
   "execution_count": 6,
   "id": "a890d462",
   "metadata": {},
   "outputs": [
    {
     "name": "stdout",
     "output_type": "stream",
     "text": [
      "X3 ndim:  3\n",
      "X3 shape: (3, 5, 5)\n",
      "X3 size:  75\n"
     ]
    }
   ],
   "source": [
    "print(\"X3 ndim: \", X3.ndim)\n",
    "print(\"X3 shape:\", X3.shape)\n",
    "print(\"X3 size: \", X3.size)"
   ]
  },
  {
   "cell_type": "markdown",
   "id": "d9029717",
   "metadata": {},
   "source": [
    "Another useful attribute is the dtype, the data type of the array (which we discussed previously in Understanding Data Types in Python)"
   ]
  },
  {
   "cell_type": "code",
   "execution_count": 7,
   "id": "edc2ee3a",
   "metadata": {},
   "outputs": [
    {
     "name": "stdout",
     "output_type": "stream",
     "text": [
      "dtype: int32\n"
     ]
    }
   ],
   "source": [
    "print('dtype:', X3.dtype)"
   ]
  },
  {
   "cell_type": "markdown",
   "id": "06b0b86b",
   "metadata": {},
   "source": [
    "Other attributes include itemsize, which lists the size (in bytes) of each array element, and nbytes, which lists the total size (in bytes) of the array:"
   ]
  },
  {
   "cell_type": "code",
   "execution_count": 9,
   "id": "7c9bc349",
   "metadata": {},
   "outputs": [
    {
     "name": "stdout",
     "output_type": "stream",
     "text": [
      "itemsize: 4 bytes\n",
      "nbytes: 300 bytes\n"
     ]
    }
   ],
   "source": [
    "print(\"itemsize:\", X3.itemsize, \"bytes\")\n",
    "print(\"nbytes:\", X3.nbytes, \"bytes\")"
   ]
  },
  {
   "cell_type": "markdown",
   "id": "d886ea20",
   "metadata": {},
   "source": [
    "In general, we expect that nbytes is equal to itemsize times size."
   ]
  },
  {
   "cell_type": "markdown",
   "id": "21f2af56",
   "metadata": {},
   "source": [
    "## Array Indexing: Accessing Single Elements"
   ]
  },
  {
   "cell_type": "markdown",
   "id": "0fbce4e8",
   "metadata": {},
   "source": [
    "If you are familiar with Python's standard list indexing, indexing in NumPy will feel quite familiar. In a one-dimensional array, the ith value (counting from zero) can be accessed by specifying the desired index in square brackets, just as with Python lists:"
   ]
  },
  {
   "cell_type": "code",
   "execution_count": 10,
   "id": "105b0b9f",
   "metadata": {},
   "outputs": [
    {
     "data": {
      "text/plain": [
       "array([5, 0, 3, 3, 7, 9])"
      ]
     },
     "execution_count": 10,
     "metadata": {},
     "output_type": "execute_result"
    }
   ],
   "source": [
    "X1"
   ]
  },
  {
   "cell_type": "code",
   "execution_count": 11,
   "id": "92e7cb72",
   "metadata": {},
   "outputs": [
    {
     "data": {
      "text/plain": [
       "5"
      ]
     },
     "execution_count": 11,
     "metadata": {},
     "output_type": "execute_result"
    }
   ],
   "source": [
    "X1[0]"
   ]
  },
  {
   "cell_type": "code",
   "execution_count": 12,
   "id": "81e4999c",
   "metadata": {},
   "outputs": [
    {
     "data": {
      "text/plain": [
       "7"
      ]
     },
     "execution_count": 12,
     "metadata": {},
     "output_type": "execute_result"
    }
   ],
   "source": [
    "X1[4]"
   ]
  },
  {
   "cell_type": "markdown",
   "id": "e22173ec",
   "metadata": {},
   "source": [
    "To index from the end of the array, you can use negative indices:"
   ]
  },
  {
   "cell_type": "code",
   "execution_count": 13,
   "id": "77e94a56",
   "metadata": {},
   "outputs": [
    {
     "data": {
      "text/plain": [
       "9"
      ]
     },
     "execution_count": 13,
     "metadata": {},
     "output_type": "execute_result"
    }
   ],
   "source": [
    "X1[-1]"
   ]
  },
  {
   "cell_type": "code",
   "execution_count": 14,
   "id": "6a19e625",
   "metadata": {},
   "outputs": [
    {
     "data": {
      "text/plain": [
       "0"
      ]
     },
     "execution_count": 14,
     "metadata": {},
     "output_type": "execute_result"
    }
   ],
   "source": [
    "X1[-5]"
   ]
  },
  {
   "cell_type": "markdown",
   "id": "f238547c",
   "metadata": {},
   "source": [
    "In a multi-dimensional array, items can be accessed using a comma-separated tuple of indices:"
   ]
  },
  {
   "cell_type": "code",
   "execution_count": 15,
   "id": "a06f3635",
   "metadata": {},
   "outputs": [
    {
     "data": {
      "text/plain": [
       "array([[3, 5, 2, 4, 7],\n",
       "       [6, 8, 8, 1, 6],\n",
       "       [7, 7, 8, 1, 5]])"
      ]
     },
     "execution_count": 15,
     "metadata": {},
     "output_type": "execute_result"
    }
   ],
   "source": [
    "X2"
   ]
  },
  {
   "cell_type": "code",
   "execution_count": 16,
   "id": "479ec0a6",
   "metadata": {},
   "outputs": [
    {
     "data": {
      "text/plain": [
       "array([3, 5, 2, 4, 7])"
      ]
     },
     "execution_count": 16,
     "metadata": {},
     "output_type": "execute_result"
    }
   ],
   "source": [
    "X2[0]"
   ]
  },
  {
   "cell_type": "code",
   "execution_count": 18,
   "id": "5dc92d92",
   "metadata": {},
   "outputs": [
    {
     "data": {
      "text/plain": [
       "3"
      ]
     },
     "execution_count": 18,
     "metadata": {},
     "output_type": "execute_result"
    }
   ],
   "source": [
    "X2[(0,0)]"
   ]
  },
  {
   "cell_type": "code",
   "execution_count": 19,
   "id": "2b5ff4e3",
   "metadata": {},
   "outputs": [
    {
     "data": {
      "text/plain": [
       "3"
      ]
     },
     "execution_count": 19,
     "metadata": {},
     "output_type": "execute_result"
    }
   ],
   "source": [
    "X2[0][0]"
   ]
  },
  {
   "cell_type": "code",
   "execution_count": 20,
   "id": "0419ffe1",
   "metadata": {},
   "outputs": [
    {
     "data": {
      "text/plain": [
       "5"
      ]
     },
     "execution_count": 20,
     "metadata": {},
     "output_type": "execute_result"
    }
   ],
   "source": [
    "X2[2,4]"
   ]
  },
  {
   "cell_type": "code",
   "execution_count": 25,
   "id": "dea7e102",
   "metadata": {},
   "outputs": [
    {
     "data": {
      "text/plain": [
       "5"
      ]
     },
     "execution_count": 25,
     "metadata": {},
     "output_type": "execute_result"
    }
   ],
   "source": [
    "X2[-1,-1]"
   ]
  },
  {
   "cell_type": "markdown",
   "id": "b0b17235",
   "metadata": {},
   "source": [
    "Values can also be modified using any of the above index notation:"
   ]
  },
  {
   "cell_type": "code",
   "execution_count": 27,
   "id": "072b32a3",
   "metadata": {},
   "outputs": [
    {
     "data": {
      "text/plain": [
       "array([[12,  5,  2,  4,  7],\n",
       "       [ 6,  8,  8,  1,  6],\n",
       "       [ 7,  7,  8,  1,  5]])"
      ]
     },
     "execution_count": 27,
     "metadata": {},
     "output_type": "execute_result"
    }
   ],
   "source": [
    "X2[0, 0] = 12\n",
    "X2"
   ]
  },
  {
   "cell_type": "markdown",
   "id": "5c5b6cdd",
   "metadata": {},
   "source": [
    "Keep in mind that, unlike Python lists, NumPy arrays have a fixed type. This means, for example, that if you attempt to insert a floating-point value to an integer array, the value will be silently truncated. Don't be caught unaware by this behavior!"
   ]
  },
  {
   "cell_type": "code",
   "execution_count": 29,
   "id": "bbc6304c",
   "metadata": {},
   "outputs": [
    {
     "data": {
      "text/plain": [
       "array([3, 0, 3, 3, 7, 9])"
      ]
     },
     "execution_count": 29,
     "metadata": {},
     "output_type": "execute_result"
    }
   ],
   "source": [
    "X1[0] = 3.14159  # this will be truncated!\n",
    "X1"
   ]
  },
  {
   "cell_type": "markdown",
   "id": "2ac7ec2f",
   "metadata": {},
   "source": [
    "## Array Slicing: Accessing Subarrays"
   ]
  },
  {
   "cell_type": "markdown",
   "id": "398866af",
   "metadata": {},
   "source": [
    "Just as we can use square brackets to access individual array elements, we can also use them to access subarrays with the slice notation, marked by the colon (:) character. The NumPy slicing syntax follows that of the standard Python list; to access a slice of an array x, use this:\n",
    "\n",
    "x[start:stop:step]\n",
    "\n",
    "\n",
    "If any of these are unspecified, they default to the values start=0, stop=size of dimension, step=1. We'll take a look at accessing sub-arrays in one dimension and in multiple dimensions.`m"
   ]
  },
  {
   "cell_type": "markdown",
   "id": "f927873b",
   "metadata": {},
   "source": [
    "## One-dimensional subarrays"
   ]
  },
  {
   "cell_type": "code",
   "execution_count": 32,
   "id": "4adbfae3",
   "metadata": {},
   "outputs": [
    {
     "data": {
      "text/plain": [
       "array([0, 1, 2, 3, 4, 5, 6, 7, 8, 9])"
      ]
     },
     "execution_count": 32,
     "metadata": {},
     "output_type": "execute_result"
    }
   ],
   "source": [
    "x=np.arange(10)\n",
    "x"
   ]
  },
  {
   "cell_type": "code",
   "execution_count": 33,
   "id": "f59e6fb3",
   "metadata": {},
   "outputs": [
    {
     "data": {
      "text/plain": [
       "array([0, 1, 2, 3, 4])"
      ]
     },
     "execution_count": 33,
     "metadata": {},
     "output_type": "execute_result"
    }
   ],
   "source": [
    "x[:5]  # first five elements"
   ]
  },
  {
   "cell_type": "code",
   "execution_count": 35,
   "id": "74a910f1",
   "metadata": {},
   "outputs": [
    {
     "data": {
      "text/plain": [
       "array([5, 6, 7, 8, 9])"
      ]
     },
     "execution_count": 35,
     "metadata": {},
     "output_type": "execute_result"
    }
   ],
   "source": [
    "x[5:]#last five elemnets"
   ]
  },
  {
   "cell_type": "code",
   "execution_count": 36,
   "id": "033725cb",
   "metadata": {},
   "outputs": [
    {
     "data": {
      "text/plain": [
       "array([4, 5, 6])"
      ]
     },
     "execution_count": 36,
     "metadata": {},
     "output_type": "execute_result"
    }
   ],
   "source": [
    "x[4:7]  # middle sub-array"
   ]
  },
  {
   "cell_type": "code",
   "execution_count": 37,
   "id": "c5a8210d",
   "metadata": {},
   "outputs": [
    {
     "data": {
      "text/plain": [
       "array([0, 2, 4, 6, 8])"
      ]
     },
     "execution_count": 37,
     "metadata": {},
     "output_type": "execute_result"
    }
   ],
   "source": [
    "x[::2]#select the evry second element"
   ]
  },
  {
   "cell_type": "code",
   "execution_count": 38,
   "id": "63d1ebcb",
   "metadata": {},
   "outputs": [
    {
     "data": {
      "text/plain": [
       "array([1, 3, 5, 7, 9])"
      ]
     },
     "execution_count": 38,
     "metadata": {},
     "output_type": "execute_result"
    }
   ],
   "source": [
    "x[1::2]  # every other element, starting at index 1"
   ]
  },
  {
   "cell_type": "markdown",
   "id": "2687e0b6",
   "metadata": {},
   "source": [
    "A potentially confusing case is when the step value is negative. In this case, the defaults for start and stop are swapped. This becomes a convenient way to reverse an array:"
   ]
  },
  {
   "cell_type": "code",
   "execution_count": 39,
   "id": "ad33e75e",
   "metadata": {},
   "outputs": [
    {
     "data": {
      "text/plain": [
       "array([9, 8, 7, 6, 5, 4, 3, 2, 1, 0])"
      ]
     },
     "execution_count": 39,
     "metadata": {},
     "output_type": "execute_result"
    }
   ],
   "source": [
    "x[::-1]"
   ]
  },
  {
   "cell_type": "code",
   "execution_count": 40,
   "id": "17095193",
   "metadata": {},
   "outputs": [
    {
     "data": {
      "text/plain": [
       "array([5, 3, 1])"
      ]
     },
     "execution_count": 40,
     "metadata": {},
     "output_type": "execute_result"
    }
   ],
   "source": [
    "x[5::-2]  # reversed every other from index 5"
   ]
  },
  {
   "cell_type": "markdown",
   "id": "f50d0147",
   "metadata": {},
   "source": [
    "## Multi-dimensional subarrays\n",
    "Multi-dimensional slices work in the same way, with multiple slices separated by commas. For example"
   ]
  },
  {
   "cell_type": "code",
   "execution_count": 41,
   "id": "d6d209ad",
   "metadata": {},
   "outputs": [
    {
     "data": {
      "text/plain": [
       "array([[12,  5,  2,  4,  7],\n",
       "       [ 6,  8,  8,  1,  6],\n",
       "       [ 7,  7,  8,  1,  5]])"
      ]
     },
     "execution_count": 41,
     "metadata": {},
     "output_type": "execute_result"
    }
   ],
   "source": [
    "X2"
   ]
  },
  {
   "cell_type": "code",
   "execution_count": 43,
   "id": "a1e0f3fc",
   "metadata": {},
   "outputs": [
    {
     "data": {
      "text/plain": [
       "array([[12,  5,  2],\n",
       "       [ 6,  8,  8]])"
      ]
     },
     "execution_count": 43,
     "metadata": {},
     "output_type": "execute_result"
    }
   ],
   "source": [
    "X2[:2, :3]  # two rows, three columns"
   ]
  },
  {
   "cell_type": "code",
   "execution_count": 46,
   "id": "08fe455a",
   "metadata": {},
   "outputs": [
    {
     "data": {
      "text/plain": [
       "array([[12,  2,  7],\n",
       "       [ 6,  8,  6],\n",
       "       [ 7,  8,  5]])"
      ]
     },
     "execution_count": 46,
     "metadata": {},
     "output_type": "execute_result"
    }
   ],
   "source": [
    "X2[:, ::2]  # all rows, every other column"
   ]
  },
  {
   "cell_type": "code",
   "execution_count": 47,
   "id": "ad57e2e8",
   "metadata": {},
   "outputs": [
    {
     "data": {
      "text/plain": [
       "array([[12,  2,  7],\n",
       "       [ 6,  8,  6],\n",
       "       [ 7,  8,  5]])"
      ]
     },
     "execution_count": 47,
     "metadata": {},
     "output_type": "execute_result"
    }
   ],
   "source": [
    "X2[:3,::2] # all rows, every other column"
   ]
  },
  {
   "cell_type": "markdown",
   "id": "26a67c68",
   "metadata": {},
   "source": [
    "### Finally, subarray dimensions can even be reversed together:"
   ]
  },
  {
   "cell_type": "code",
   "execution_count": 48,
   "id": "00c9c1e7",
   "metadata": {},
   "outputs": [
    {
     "data": {
      "text/plain": [
       "array([[ 5,  1,  8,  7,  7],\n",
       "       [ 6,  1,  8,  8,  6],\n",
       "       [ 7,  4,  2,  5, 12]])"
      ]
     },
     "execution_count": 48,
     "metadata": {},
     "output_type": "execute_result"
    }
   ],
   "source": [
    "X2[::-1,::-1]"
   ]
  },
  {
   "cell_type": "markdown",
   "id": "1f5d48f6",
   "metadata": {},
   "source": [
    "#### Accessing array rows and columns\n",
    "One commonly needed routine is accessing of single rows or columns of an array. This can be done by combining indexing and slicing, using an empty slice marked by a single colon (:):"
   ]
  },
  {
   "cell_type": "code",
   "execution_count": 49,
   "id": "8b1a955a",
   "metadata": {},
   "outputs": [
    {
     "data": {
      "text/plain": [
       "array([2, 8, 8])"
      ]
     },
     "execution_count": 49,
     "metadata": {},
     "output_type": "execute_result"
    }
   ],
   "source": [
    "X2[:,2]# Third column of x2"
   ]
  },
  {
   "cell_type": "code",
   "execution_count": 50,
   "id": "d276408d",
   "metadata": {},
   "outputs": [
    {
     "data": {
      "text/plain": [
       "array([12,  5,  2,  4,  7])"
      ]
     },
     "execution_count": 50,
     "metadata": {},
     "output_type": "execute_result"
    }
   ],
   "source": [
    "X2[0,:]#first row whith all columns in X2"
   ]
  },
  {
   "cell_type": "markdown",
   "id": "98285f29",
   "metadata": {},
   "source": [
    "In the case of row access, the empty slice can be omitted for a more compact syntax:"
   ]
  },
  {
   "cell_type": "code",
   "execution_count": 52,
   "id": "737f305e",
   "metadata": {},
   "outputs": [
    {
     "data": {
      "text/plain": [
       "array([12,  5,  2,  4,  7])"
      ]
     },
     "execution_count": 52,
     "metadata": {},
     "output_type": "execute_result"
    }
   ],
   "source": [
    "X2[0]# equivalent to x2[0, :]"
   ]
  },
  {
   "cell_type": "markdown",
   "id": "c51dc525",
   "metadata": {},
   "source": [
    "### Subarrays as no-copy views\n",
    "One important–and extremely useful–thing to know about array slices is that they return views rather than copies of the array data. This is one area in which NumPy array slicing differs from Python list slicing: in lists, slices will be copies. Consider our two-dimensional array from before:"
   ]
  },
  {
   "cell_type": "code",
   "execution_count": 53,
   "id": "f0639f91",
   "metadata": {},
   "outputs": [
    {
     "name": "stdout",
     "output_type": "stream",
     "text": [
      "[[12  5  2  4  7]\n",
      " [ 6  8  8  1  6]\n",
      " [ 7  7  8  1  5]]\n"
     ]
    }
   ],
   "source": [
    "print(X2)"
   ]
  },
  {
   "cell_type": "markdown",
   "id": "65f822a4",
   "metadata": {},
   "source": [
    "Let's extract a 2×2 subarray from this:"
   ]
  },
  {
   "cell_type": "code",
   "execution_count": 56,
   "id": "31687b88",
   "metadata": {},
   "outputs": [
    {
     "data": {
      "text/plain": [
       "array([[12,  5],\n",
       "       [ 6,  8]])"
      ]
     },
     "execution_count": 56,
     "metadata": {},
     "output_type": "execute_result"
    }
   ],
   "source": [
    "X2_sub=X2[:2,:2]\n",
    "X2_sub"
   ]
  },
  {
   "cell_type": "code",
   "execution_count": 59,
   "id": "b9f190b1",
   "metadata": {},
   "outputs": [
    {
     "data": {
      "text/plain": [
       "array([[99,  5],\n",
       "       [ 6,  8]])"
      ]
     },
     "execution_count": 59,
     "metadata": {},
     "output_type": "execute_result"
    }
   ],
   "source": [
    "X2_sub[0,0]=99\n",
    "X2_sub"
   ]
  },
  {
   "cell_type": "code",
   "execution_count": 60,
   "id": "bc168ff6",
   "metadata": {},
   "outputs": [
    {
     "data": {
      "text/plain": [
       "array([[99,  5,  2,  4,  7],\n",
       "       [ 6,  8,  8,  1,  6],\n",
       "       [ 7,  7,  8,  1,  5]])"
      ]
     },
     "execution_count": 60,
     "metadata": {},
     "output_type": "execute_result"
    }
   ],
   "source": [
    "X2"
   ]
  },
  {
   "cell_type": "markdown",
   "id": "07a6931d",
   "metadata": {},
   "source": [
    "This default behavior is actually quite useful: it means that when we work with large datasets, we can access and process pieces of these datasets without the need to copy the underlying data buffer."
   ]
  },
  {
   "cell_type": "markdown",
   "id": "7d0865d3",
   "metadata": {},
   "source": [
    "### Creating copies of arrays\n",
    "Despite the nice features of array views, it is sometimes useful to instead explicitly copy the data within an array or a subarray. This can be most easily done with the copy() method:"
   ]
  },
  {
   "cell_type": "code",
   "execution_count": 62,
   "id": "3ee99f33",
   "metadata": {},
   "outputs": [
    {
     "data": {
      "text/plain": [
       "array([[99,  5],\n",
       "       [ 6,  8]])"
      ]
     },
     "execution_count": 62,
     "metadata": {},
     "output_type": "execute_result"
    }
   ],
   "source": [
    "X2_sub_copy=X2[:2,:2].copy()\n",
    "X2_sub_copy"
   ]
  },
  {
   "cell_type": "markdown",
   "id": "38c374c8",
   "metadata": {},
   "source": [
    "If we now modify this subarray, the original array is not touched:"
   ]
  },
  {
   "cell_type": "code",
   "execution_count": 64,
   "id": "0cf8a61c",
   "metadata": {},
   "outputs": [
    {
     "data": {
      "text/plain": [
       "array([[66,  5],\n",
       "       [ 6,  8]])"
      ]
     },
     "execution_count": 64,
     "metadata": {},
     "output_type": "execute_result"
    }
   ],
   "source": [
    "X2_sub_copy[0,0]=66\n",
    "X2_sub_copy"
   ]
  },
  {
   "cell_type": "code",
   "execution_count": 65,
   "id": "0b31de31",
   "metadata": {},
   "outputs": [
    {
     "data": {
      "text/plain": [
       "array([[99,  5,  2,  4,  7],\n",
       "       [ 6,  8,  8,  1,  6],\n",
       "       [ 7,  7,  8,  1,  5]])"
      ]
     },
     "execution_count": 65,
     "metadata": {},
     "output_type": "execute_result"
    }
   ],
   "source": [
    "X2"
   ]
  },
  {
   "cell_type": "markdown",
   "id": "fcf9e4c8",
   "metadata": {},
   "source": [
    "# Reshaping of Arrays\n",
    "Another useful type of operation is reshaping of arrays. The most flexible way of doing this is with the reshape method. For example, if you want to put the numbers 1 through 9 in a 3×3 grid, you can do the following:"
   ]
  },
  {
   "cell_type": "code",
   "execution_count": 73,
   "id": "f5c8dffd",
   "metadata": {},
   "outputs": [
    {
     "name": "stdout",
     "output_type": "stream",
     "text": [
      "[[1 2 3]\n",
      " [4 5 6]\n",
      " [7 8 9]]\n"
     ]
    }
   ],
   "source": [
    "grid=np.arange(1,10).reshape((3,3))\n",
    "print(grid)"
   ]
  },
  {
   "cell_type": "markdown",
   "id": "a4122dd0",
   "metadata": {},
   "source": [
    "Note that for this to work, the size of the initial array must match the size of the reshaped array. Where possible, the reshape method will use a no-copy view of the initial array, but with non-contiguous memory buffers this is not always the case.\n",
    "\n",
    "Another common reshaping pattern is the conversion of a one-dimensional array into a two-dimensional row or column matrix. This can be done with the reshape method, or more easily done by making use of the newaxis keyword within a slice operation:"
   ]
  },
  {
   "cell_type": "code",
   "execution_count": 75,
   "id": "7f549415",
   "metadata": {},
   "outputs": [
    {
     "data": {
      "text/plain": [
       "array([[1, 2, 3]])"
      ]
     },
     "execution_count": 75,
     "metadata": {},
     "output_type": "execute_result"
    }
   ],
   "source": [
    "w=np.array([1,2,3])\n",
    "# row vector via reshape\n",
    "w.reshape((1, 3))"
   ]
  },
  {
   "cell_type": "code",
   "execution_count": 79,
   "id": "85e276a5",
   "metadata": {},
   "outputs": [
    {
     "data": {
      "text/plain": [
       "array([[1, 2, 3]])"
      ]
     },
     "execution_count": 79,
     "metadata": {},
     "output_type": "execute_result"
    }
   ],
   "source": [
    "vw=np.array([1,2,3])\n",
    "# row vector via newaxis\n",
    "vw[np.newaxis, :]"
   ]
  },
  {
   "cell_type": "code",
   "execution_count": 80,
   "id": "85c06e0c",
   "metadata": {},
   "outputs": [
    {
     "data": {
      "text/plain": [
       "array([[1],\n",
       "       [2],\n",
       "       [3]])"
      ]
     },
     "execution_count": 80,
     "metadata": {},
     "output_type": "execute_result"
    }
   ],
   "source": [
    "# column vector via reshape\n",
    "vw.reshape((3, 1))"
   ]
  },
  {
   "cell_type": "code",
   "execution_count": 82,
   "id": "3a92b151",
   "metadata": {},
   "outputs": [
    {
     "data": {
      "text/plain": [
       "array([[1],\n",
       "       [2],\n",
       "       [3]])"
      ]
     },
     "execution_count": 82,
     "metadata": {},
     "output_type": "execute_result"
    }
   ],
   "source": [
    "# column vector via newaxis\n",
    "vw[:, np.newaxis]"
   ]
  },
  {
   "cell_type": "markdown",
   "id": "abcb7386",
   "metadata": {},
   "source": [
    "### Array Concatenation and Splitting\n",
    "All of the preceding routines worked on single arrays. It's also possible to combine multiple arrays into one, and to conversely split a single array into multiple arrays. We'll take a look at those operations here.\n",
    "\n"
   ]
  },
  {
   "cell_type": "markdown",
   "id": "06942df4",
   "metadata": {},
   "source": [
    "### Concatenation of arrays\n",
    "Concatenation, or joining of two arrays in NumPy, is primarily accomplished using the routines np.concatenate, np.vstack, and np.hstack. np.concatenate takes a tuple or list of arrays as its first argument, as we can see here:"
   ]
  },
  {
   "cell_type": "code",
   "execution_count": 83,
   "id": "e63945d1",
   "metadata": {},
   "outputs": [
    {
     "data": {
      "text/plain": [
       "array([1, 2, 3, 3, 2, 1])"
      ]
     },
     "execution_count": 83,
     "metadata": {},
     "output_type": "execute_result"
    }
   ],
   "source": [
    "x = np.array([1, 2, 3])\n",
    "y = np.array([3, 2, 1])\n",
    "np.concatenate([x, y])"
   ]
  },
  {
   "cell_type": "markdown",
   "id": "992312b9",
   "metadata": {},
   "source": [
    "You can also concatenate more than two arrays at once:"
   ]
  },
  {
   "cell_type": "code",
   "execution_count": 84,
   "id": "78a8ca1b",
   "metadata": {},
   "outputs": [
    {
     "data": {
      "text/plain": [
       "array([ 1,  2,  3,  3,  2,  1, 33, 44, 55, 66])"
      ]
     },
     "execution_count": 84,
     "metadata": {},
     "output_type": "execute_result"
    }
   ],
   "source": [
    "z=np.array([33,44,55,66])\n",
    "np.concatenate([x,y,z])"
   ]
  },
  {
   "cell_type": "markdown",
   "id": "65277102",
   "metadata": {},
   "source": [
    "It can also be used for two-dimensional arrays"
   ]
  },
  {
   "cell_type": "code",
   "execution_count": 85,
   "id": "02aaa448",
   "metadata": {},
   "outputs": [],
   "source": [
    "grid=np.array([[6,5,4],\n",
    "               [4,5,6]])"
   ]
  },
  {
   "cell_type": "code",
   "execution_count": 86,
   "id": "ed18f80c",
   "metadata": {},
   "outputs": [
    {
     "data": {
      "text/plain": [
       "array([[6, 5, 4],\n",
       "       [4, 5, 6],\n",
       "       [6, 5, 4],\n",
       "       [4, 5, 6]])"
      ]
     },
     "execution_count": 86,
     "metadata": {},
     "output_type": "execute_result"
    }
   ],
   "source": [
    "# concatenate along the first axis\n",
    "np.concatenate([grid,grid])"
   ]
  },
  {
   "cell_type": "code",
   "execution_count": 87,
   "id": "62302dc5",
   "metadata": {},
   "outputs": [
    {
     "data": {
      "text/plain": [
       "array([[6, 5, 4, 6, 5, 4],\n",
       "       [4, 5, 6, 4, 5, 6]])"
      ]
     },
     "execution_count": 87,
     "metadata": {},
     "output_type": "execute_result"
    }
   ],
   "source": [
    "# concatenate along the second axis (zero-indexed)\n",
    "np.concatenate([grid,grid],axis=1)"
   ]
  },
  {
   "cell_type": "markdown",
   "id": "4e956a6c",
   "metadata": {},
   "source": [
    "For working with arrays of mixed dimensions, it can be clearer to use the np.vstack (vertical stack) and np.hstack (horizontal stack) functions:"
   ]
  },
  {
   "cell_type": "code",
   "execution_count": 88,
   "id": "27ce5b29",
   "metadata": {},
   "outputs": [
    {
     "data": {
      "text/plain": [
       "array([[1, 2, 3],\n",
       "       [9, 8, 7],\n",
       "       [6, 5, 4]])"
      ]
     },
     "execution_count": 88,
     "metadata": {},
     "output_type": "execute_result"
    }
   ],
   "source": [
    "x = np.array([1, 2, 3])\n",
    "grid = np.array([[9, 8, 7],\n",
    "                 [6, 5, 4]])\n",
    "\n",
    "# vertically stack the arrays\n",
    "np.vstack([x, grid])"
   ]
  },
  {
   "cell_type": "code",
   "execution_count": 89,
   "id": "ac66a5c9",
   "metadata": {},
   "outputs": [
    {
     "data": {
      "text/plain": [
       "array([[ 9,  8,  7, 99],\n",
       "       [ 6,  5,  4, 99]])"
      ]
     },
     "execution_count": 89,
     "metadata": {},
     "output_type": "execute_result"
    }
   ],
   "source": [
    "# horizontally stack the arrays\n",
    "y = np.array([[99],\n",
    "              [99]])\n",
    "np.hstack([grid, y])"
   ]
  },
  {
   "cell_type": "markdown",
   "id": "d915cb8a",
   "metadata": {},
   "source": [
    "Similary, np.dstack will stack arrays along the third axis."
   ]
  },
  {
   "cell_type": "code",
   "execution_count": 93,
   "id": "e8ddfab3",
   "metadata": {},
   "outputs": [
    {
     "data": {
      "text/plain": [
       "array([[[ 1,  2]],\n",
       "\n",
       "       [[10,  3]],\n",
       "\n",
       "       [[ 9,  4]]])"
      ]
     },
     "execution_count": 93,
     "metadata": {},
     "output_type": "execute_result"
    }
   ],
   "source": [
    "a = np.array([[1],[10],[9]])\n",
    "b = np.array([[2],[3],[4]])\n",
    "np.dstack((a,b))\n"
   ]
  },
  {
   "cell_type": "markdown",
   "id": "40f54cef",
   "metadata": {},
   "source": [
    "### Splitting of arrays\n",
    "The opposite of concatenation is splitting, which is implemented by the functions np.split, np.hsplit, and np.vsplit. For each of these, we can pass a list of indices giving the split points:"
   ]
  },
  {
   "cell_type": "code",
   "execution_count": 109,
   "id": "1cb37712",
   "metadata": {},
   "outputs": [
    {
     "data": {
      "text/plain": [
       "[array([1, 2, 3]), array([99, 99]), array([3, 2, 1])]"
      ]
     },
     "execution_count": 109,
     "metadata": {},
     "output_type": "execute_result"
    }
   ],
   "source": [
    "x = [1, 2, 3, 99, 99,3, 2, 1]\n",
    "np.split(x,[3,5])\n"
   ]
  },
  {
   "cell_type": "markdown",
   "id": "0e1830cd",
   "metadata": {},
   "source": [
    "Notice that N split-points, leads to N + 1 subarrays. The related functions np.hsplit and np.vsplit are similar:"
   ]
  },
  {
   "cell_type": "code",
   "execution_count": 98,
   "id": "f3db7463",
   "metadata": {},
   "outputs": [
    {
     "data": {
      "text/plain": [
       "array([[ 0,  1,  2,  3],\n",
       "       [ 4,  5,  6,  7],\n",
       "       [ 8,  9, 10, 11],\n",
       "       [12, 13, 14, 15]])"
      ]
     },
     "execution_count": 98,
     "metadata": {},
     "output_type": "execute_result"
    }
   ],
   "source": [
    "grid = np.arange(16).reshape((4, 4))\n",
    "grid"
   ]
  },
  {
   "cell_type": "code",
   "execution_count": 107,
   "id": "27c053bf",
   "metadata": {},
   "outputs": [
    {
     "name": "stdout",
     "output_type": "stream",
     "text": [
      "[[0 1 2 3]\n",
      " [4 5 6 7]]\n",
      "[[ 8  9 10 11]\n",
      " [12 13 14 15]]\n"
     ]
    }
   ],
   "source": [
    "upper, lower = np.vsplit(grid, [2])\n",
    "print(upper)\n",
    "print(lower)"
   ]
  },
  {
   "cell_type": "code",
   "execution_count": 104,
   "id": "e729a89d",
   "metadata": {},
   "outputs": [
    {
     "name": "stdout",
     "output_type": "stream",
     "text": [
      "[[ 0  1]\n",
      " [ 4  5]\n",
      " [ 8  9]\n",
      " [12 13]]\n"
     ]
    }
   ],
   "source": [
    "left,right= np.hsplit(grid, [2])\n",
    "print(left)\n"
   ]
  },
  {
   "cell_type": "code",
   "execution_count": 105,
   "id": "fc644da1",
   "metadata": {},
   "outputs": [
    {
     "name": "stdout",
     "output_type": "stream",
     "text": [
      "[[ 2  3]\n",
      " [ 6  7]\n",
      " [10 11]\n",
      " [14 15]]\n"
     ]
    }
   ],
   "source": [
    "print(right)"
   ]
  },
  {
   "cell_type": "markdown",
   "id": "ec1bfcda",
   "metadata": {},
   "source": [
    "Similarly, np.dsplit will split arrays along the third axis"
   ]
  },
  {
   "cell_type": "code",
   "execution_count": null,
   "id": "40809e20",
   "metadata": {},
   "outputs": [],
   "source": []
  }
 ],
 "metadata": {
  "kernelspec": {
   "display_name": "Python 3",
   "language": "python",
   "name": "python3"
  },
  "language_info": {
   "codemirror_mode": {
    "name": "ipython",
    "version": 3
   },
   "file_extension": ".py",
   "mimetype": "text/x-python",
   "name": "python",
   "nbconvert_exporter": "python",
   "pygments_lexer": "ipython3",
   "version": "3.8.5"
  }
 },
 "nbformat": 4,
 "nbformat_minor": 5
}
